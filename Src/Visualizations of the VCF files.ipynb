{
 "cells": [
  {
   "cell_type": "markdown",
   "id": "e7afcf98",
   "metadata": {},
   "source": [
    "## Author : Jarosław Wełeszczuk"
   ]
  },
  {
   "cell_type": "markdown",
   "id": "5a03bc84",
   "metadata": {},
   "source": [
    "## 0. Libraries"
   ]
  },
  {
   "cell_type": "code",
   "execution_count": 1,
   "id": "f241765c",
   "metadata": {},
   "outputs": [
    {
     "name": "stderr",
     "output_type": "stream",
     "text": [
      "\n",
      "   *****       ***   vcfR   ***       *****\n",
      "   This is vcfR 1.12.0 \n",
      "     browseVignettes('vcfR') # Documentation\n",
      "     citation('vcfR') # Citation\n",
      "   *****       *****      *****       *****\n",
      "\n",
      "\n"
     ]
    }
   ],
   "source": [
    "library(ape)\n",
    "library(ggplot2)\n",
    "library(gridExtra)\n",
    "library(purrr)\n",
    "library(vcfR)"
   ]
  },
  {
   "cell_type": "markdown",
   "id": "410999a1",
   "metadata": {},
   "source": [
    "## 1. Set path"
   ]
  },
  {
   "cell_type": "code",
   "execution_count": 2,
   "id": "a182cc9a",
   "metadata": {},
   "outputs": [],
   "source": [
    "actual_directory<- getwd()\n",
    "setwd(actual_directory)"
   ]
  },
  {
   "cell_type": "markdown",
   "id": "025c059b",
   "metadata": {},
   "source": [
    "## 2. Read data"
   ]
  },
  {
   "cell_type": "code",
   "execution_count": 3,
   "id": "3f3f0efa",
   "metadata": {},
   "outputs": [
    {
     "name": "stdout",
     "output_type": "stream",
     "text": [
      "Scanning file to determine attributes.\n",
      "File attributes:\n",
      "  meta lines: 48\n",
      "  header_line: 49\n",
      "  variant count: 3938\n",
      "  column count: 10\n",
      "Meta line 48 read in.\n",
      "All meta lines processed.\n",
      "gt matrix initialized.\n",
      "Character matrix gt created.\n",
      "  Character matrix gt rows: 3938\n",
      "  Character matrix gt cols: 10\n",
      "  skip: 0\n",
      "  nrows: 3938\n",
      "  row_num: 0\n",
      "Processed variant: 3938\n",
      "All variants processed\n"
     ]
    }
   ],
   "source": [
    "v_45 <- read.vcfR(\"45_annotaed.EFF.vcf\")"
   ]
  },
  {
   "cell_type": "code",
   "execution_count": 4,
   "id": "31368c73",
   "metadata": {},
   "outputs": [
    {
     "name": "stdout",
     "output_type": "stream",
     "text": [
      "Scanning file to determine attributes.\n",
      "File attributes:\n",
      "  meta lines: 48\n",
      "  header_line: 49\n",
      "  variant count: 3145\n",
      "  column count: 10\n",
      "Meta line 48 read in.\n",
      "All meta lines processed.\n",
      "gt matrix initialized.\n",
      "Character matrix gt created.\n",
      "  Character matrix gt rows: 3145\n",
      "  Character matrix gt cols: 10\n",
      "  skip: 0\n",
      "  nrows: 3145\n",
      "  row_num: 0\n",
      "Processed variant: 3145\n",
      "All variants processed\n"
     ]
    }
   ],
   "source": [
    "v_46 <- read.vcfR(\"46_annotaed.EFF.vcf\")"
   ]
  },
  {
   "cell_type": "code",
   "execution_count": 5,
   "id": "0e7e6311",
   "metadata": {},
   "outputs": [
    {
     "name": "stdout",
     "output_type": "stream",
     "text": [
      "Scanning file to determine attributes.\n",
      "File attributes:\n",
      "  meta lines: 48\n",
      "  header_line: 49\n",
      "  variant count: 195\n",
      "  column count: 10\n",
      "Meta line 48 read in.\n",
      "All meta lines processed.\n",
      "gt matrix initialized.\n",
      "Character matrix gt created.\n",
      "  Character matrix gt rows: 195\n",
      "  Character matrix gt cols: 10\n",
      "  skip: 0\n",
      "  nrows: 195\n",
      "  row_num: 0\n",
      "Processed variant: 195\n",
      "All variants processed\n"
     ]
    }
   ],
   "source": [
    "v_47 <- read.vcfR(\"47_annotaed.EFF.vcf\")"
   ]
  },
  {
   "cell_type": "code",
   "execution_count": 9,
   "id": "5eaa9ea0",
   "metadata": {},
   "outputs": [],
   "source": [
    "reference_genome <- read.dna(\"whole_genom.fa\", format = \"fasta\")"
   ]
  },
  {
   "cell_type": "code",
   "execution_count": 7,
   "id": "c87a7819",
   "metadata": {},
   "outputs": [],
   "source": [
    "adnotation <- read.gff(\"GCF_000146045.2_R64_genomic.gff\", na.strings = c(\".\", \"?\"), GFF3 = FALSE)"
   ]
  },
  {
   "cell_type": "markdown",
   "id": "b1d15c95",
   "metadata": {},
   "source": [
    "## 3. Define function"
   ]
  },
  {
   "cell_type": "code",
   "execution_count": 8,
   "id": "31687842",
   "metadata": {},
   "outputs": [],
   "source": [
    "chromosome_var <- function(vcf_file, name_of_file, reference_genome, adnotation){\n",
    "  chromosome <- create.chromR(vcf = vcf_file, \n",
    "                         name = name_of_file, \n",
    "                         seq = reference_genome, \n",
    "                         ann = adnotation)\n",
    "  \n",
    "  return(chromosome)\n",
    "}"
   ]
  },
  {
   "cell_type": "markdown",
   "id": "2ce55fbd",
   "metadata": {},
   "source": [
    "## 4. Create objects"
   ]
  },
  {
   "cell_type": "code",
   "execution_count": 21,
   "id": "1f125465",
   "metadata": {
    "scrolled": true
   },
   "outputs": [
    {
     "name": "stderr",
     "output_type": "stream",
     "text": [
      "vcfR object includes more than one chromosome (CHROM).\n",
      "\n",
      "I, II, III, IV, IX, V, VI, VII, VIII, X, XI, XII, XIII, XIV, XV, XVI\n",
      "\n",
      "Subsetting to the first chromosome\n",
      "\n",
      "DNAbin object includes more than one chromosome.\n",
      "\n",
      "I dna:chromosome chromosome:R64-1-1:I:1:230218:1 REF, II dna:chromosome chromosome:R64-1-1:II:1:813184:1 REF, III dna:chromosome chromosome:R64-1-1:III:1:316620:1 REF, IV dna:chromosome chromosome:R64-1-1:IV:1:1531933:1 REF, IX dna:chromosome chromosome:R64-1-1:IX:1:439888:1 REF, V dna:chromosome chromosome:R64-1-1:V:1:576874:1 REF, VI dna:chromosome chromosome:R64-1-1:VI:1:270161:1 REF, VII dna:chromosome chromosome:R64-1-1:VII:1:1090940:1 REF, VIII dna:chromosome chromosome:R64-1-1:VIII:1:562643:1 REF, X dna:chromosome chromosome:R64-1-1:X:1:745751:1 REF, XI dna:chromosome chromosome:R64-1-1:XI:1:666816:1 REF, XII dna:chromosome chromosome:R64-1-1:XII:1:1078177:1 REF, XIII dna:chromosome chromosome:R64-1-1:XIII:1:924431:1 REF, XIV dna:chromosome chromosome:R64-1-1:XIV:1:784333:1 REF, XV dna:chromosome chromosome:R64-1-1:XV:1:1091291:1 REF, XVI dna:chromosome chromosome:R64-1-1:XVI:1:948066:1 REF\n",
      "\n",
      "Subsetting to the first chromosome\n",
      "\n",
      "Annotations include more than one chromosome.\n",
      "\n",
      "NC_001133.9, NC_001134.8, NC_001135.5, NC_001136.10, NC_001137.3, NC_001138.5, NC_001139.9, NC_001140.6, NC_001141.2, NC_001142.9, NC_001143.9, NC_001144.5, NC_001145.3, NC_001146.8, NC_001147.6, NC_001148.4, NC_001224.1\n",
      "\n",
      "Subsetting to the first chromosome\n",
      "\n",
      "Names in vcf:\n",
      "\n",
      "  I\n",
      "\n",
      "Names of sequences:\n",
      "\n",
      "  I dna:chromosome chromosome:R64-1-1:I:1:230218:1 REF\n",
      "\n",
      "Warning message in create.chromR(vcf = vcf_file, name = name_of_file, seq = reference_genome, :\n",
      "\"\n",
      "        Names in variant data and sequence data do not match perfectly.\n",
      "        If you choose to proceed, we'll do our best to match the data.\n",
      "        But prepare yourself for unexpected results.\"\n",
      "Names in annotation:\n",
      "\n",
      "  NC_001133.9\n",
      "\n",
      "Warning message in create.chromR(vcf = vcf_file, name = name_of_file, seq = reference_genome, :\n",
      "\"\n",
      "        Names in variant data and annotation data do not match perfectly.\n",
      "        If you choose to proceed, we'll do our best to match the data.\n",
      "        But prepare yourself for unexpected results.\"\n",
      "Initializing var.info slot.\n",
      "\n",
      "var.info slot initialized.\n",
      "\n"
     ]
    }
   ],
   "source": [
    "f_45 <- chromosome_var(v_45,\n",
    "                       \"SRR_45\",\n",
    "                       reference_genome,\n",
    "                       adnotation)"
   ]
  },
  {
   "cell_type": "code",
   "execution_count": 22,
   "id": "c8ba8f0b",
   "metadata": {
    "scrolled": true
   },
   "outputs": [
    {
     "name": "stderr",
     "output_type": "stream",
     "text": [
      "vcfR object includes more than one chromosome (CHROM).\n",
      "\n",
      "I, II, III, IV, IX, V, VI, VII, VIII, X, XI, XII, XIII, XIV, XV, XVI\n",
      "\n",
      "Subsetting to the first chromosome\n",
      "\n",
      "DNAbin object includes more than one chromosome.\n",
      "\n",
      "I dna:chromosome chromosome:R64-1-1:I:1:230218:1 REF, II dna:chromosome chromosome:R64-1-1:II:1:813184:1 REF, III dna:chromosome chromosome:R64-1-1:III:1:316620:1 REF, IV dna:chromosome chromosome:R64-1-1:IV:1:1531933:1 REF, IX dna:chromosome chromosome:R64-1-1:IX:1:439888:1 REF, V dna:chromosome chromosome:R64-1-1:V:1:576874:1 REF, VI dna:chromosome chromosome:R64-1-1:VI:1:270161:1 REF, VII dna:chromosome chromosome:R64-1-1:VII:1:1090940:1 REF, VIII dna:chromosome chromosome:R64-1-1:VIII:1:562643:1 REF, X dna:chromosome chromosome:R64-1-1:X:1:745751:1 REF, XI dna:chromosome chromosome:R64-1-1:XI:1:666816:1 REF, XII dna:chromosome chromosome:R64-1-1:XII:1:1078177:1 REF, XIII dna:chromosome chromosome:R64-1-1:XIII:1:924431:1 REF, XIV dna:chromosome chromosome:R64-1-1:XIV:1:784333:1 REF, XV dna:chromosome chromosome:R64-1-1:XV:1:1091291:1 REF, XVI dna:chromosome chromosome:R64-1-1:XVI:1:948066:1 REF\n",
      "\n",
      "Subsetting to the first chromosome\n",
      "\n",
      "Annotations include more than one chromosome.\n",
      "\n",
      "NC_001133.9, NC_001134.8, NC_001135.5, NC_001136.10, NC_001137.3, NC_001138.5, NC_001139.9, NC_001140.6, NC_001141.2, NC_001142.9, NC_001143.9, NC_001144.5, NC_001145.3, NC_001146.8, NC_001147.6, NC_001148.4, NC_001224.1\n",
      "\n",
      "Subsetting to the first chromosome\n",
      "\n",
      "Names in vcf:\n",
      "\n",
      "  I\n",
      "\n",
      "Names of sequences:\n",
      "\n",
      "  I dna:chromosome chromosome:R64-1-1:I:1:230218:1 REF\n",
      "\n",
      "Warning message in create.chromR(vcf = vcf_file, name = name_of_file, seq = reference_genome, :\n",
      "\"\n",
      "        Names in variant data and sequence data do not match perfectly.\n",
      "        If you choose to proceed, we'll do our best to match the data.\n",
      "        But prepare yourself for unexpected results.\"\n",
      "Names in annotation:\n",
      "\n",
      "  NC_001133.9\n",
      "\n",
      "Warning message in create.chromR(vcf = vcf_file, name = name_of_file, seq = reference_genome, :\n",
      "\"\n",
      "        Names in variant data and annotation data do not match perfectly.\n",
      "        If you choose to proceed, we'll do our best to match the data.\n",
      "        But prepare yourself for unexpected results.\"\n",
      "Initializing var.info slot.\n",
      "\n",
      "var.info slot initialized.\n",
      "\n"
     ]
    }
   ],
   "source": [
    "f_46 <- chromosome_var(v_46,\n",
    "                       \"SRR_46\",\n",
    "                       reference_genome,\n",
    "                       adnotation)"
   ]
  },
  {
   "cell_type": "code",
   "execution_count": 23,
   "id": "f343117a",
   "metadata": {
    "scrolled": true
   },
   "outputs": [
    {
     "name": "stderr",
     "output_type": "stream",
     "text": [
      "vcfR object includes more than one chromosome (CHROM).\n",
      "\n",
      "I, II, III, IV, IX, V, VI, VII, VIII, X, XI, XII, XIII, XIV, XV, XVI\n",
      "\n",
      "Subsetting to the first chromosome\n",
      "\n",
      "DNAbin object includes more than one chromosome.\n",
      "\n",
      "I dna:chromosome chromosome:R64-1-1:I:1:230218:1 REF, II dna:chromosome chromosome:R64-1-1:II:1:813184:1 REF, III dna:chromosome chromosome:R64-1-1:III:1:316620:1 REF, IV dna:chromosome chromosome:R64-1-1:IV:1:1531933:1 REF, IX dna:chromosome chromosome:R64-1-1:IX:1:439888:1 REF, V dna:chromosome chromosome:R64-1-1:V:1:576874:1 REF, VI dna:chromosome chromosome:R64-1-1:VI:1:270161:1 REF, VII dna:chromosome chromosome:R64-1-1:VII:1:1090940:1 REF, VIII dna:chromosome chromosome:R64-1-1:VIII:1:562643:1 REF, X dna:chromosome chromosome:R64-1-1:X:1:745751:1 REF, XI dna:chromosome chromosome:R64-1-1:XI:1:666816:1 REF, XII dna:chromosome chromosome:R64-1-1:XII:1:1078177:1 REF, XIII dna:chromosome chromosome:R64-1-1:XIII:1:924431:1 REF, XIV dna:chromosome chromosome:R64-1-1:XIV:1:784333:1 REF, XV dna:chromosome chromosome:R64-1-1:XV:1:1091291:1 REF, XVI dna:chromosome chromosome:R64-1-1:XVI:1:948066:1 REF\n",
      "\n",
      "Subsetting to the first chromosome\n",
      "\n",
      "Annotations include more than one chromosome.\n",
      "\n",
      "NC_001133.9, NC_001134.8, NC_001135.5, NC_001136.10, NC_001137.3, NC_001138.5, NC_001139.9, NC_001140.6, NC_001141.2, NC_001142.9, NC_001143.9, NC_001144.5, NC_001145.3, NC_001146.8, NC_001147.6, NC_001148.4, NC_001224.1\n",
      "\n",
      "Subsetting to the first chromosome\n",
      "\n",
      "Names in vcf:\n",
      "\n",
      "  I\n",
      "\n",
      "Names of sequences:\n",
      "\n",
      "  I dna:chromosome chromosome:R64-1-1:I:1:230218:1 REF\n",
      "\n",
      "Warning message in create.chromR(vcf = vcf_file, name = name_of_file, seq = reference_genome, :\n",
      "\"\n",
      "        Names in variant data and sequence data do not match perfectly.\n",
      "        If you choose to proceed, we'll do our best to match the data.\n",
      "        But prepare yourself for unexpected results.\"\n",
      "Names in annotation:\n",
      "\n",
      "  NC_001133.9\n",
      "\n",
      "Warning message in create.chromR(vcf = vcf_file, name = name_of_file, seq = reference_genome, :\n",
      "\"\n",
      "        Names in variant data and annotation data do not match perfectly.\n",
      "        If you choose to proceed, we'll do our best to match the data.\n",
      "        But prepare yourself for unexpected results.\"\n",
      "Initializing var.info slot.\n",
      "\n",
      "var.info slot initialized.\n",
      "\n"
     ]
    }
   ],
   "source": [
    "f_47 <- chromosome_var(v_47,\n",
    "                       \"SRR_47\",\n",
    "                       reference_genome,\n",
    "                       adnotation)"
   ]
  },
  {
   "cell_type": "markdown",
   "id": "9fad642e",
   "metadata": {},
   "source": [
    "## 5. Visualize results"
   ]
  },
  {
   "cell_type": "code",
   "execution_count": 24,
   "id": "a7fb1fb5",
   "metadata": {},
   "outputs": [
    {
     "data": {
      "image/png": "[encoded data removed]",
      "text/plain": [
       "Plot with title \"No SNP densities found\""
      ]
     },
     "metadata": {
      "image/png": {
       "height": 420,
       "width": 420
      }
     },
     "output_type": "display_data"
    }
   ],
   "source": [
    "plot(f_45)"
   ]
  },
  {
   "cell_type": "code",
   "execution_count": 25,
   "id": "cce52002",
   "metadata": {},
   "outputs": [
    {
     "data": {
      "image/png": "[encoded data removed]",
      "text/plain": [
       "Plot with title \"SRR_45\""
      ]
     },
     "metadata": {
      "image/png": {
       "height": 420,
       "width": 420
      }
     },
     "output_type": "display_data"
    }
   ],
   "source": [
    "chromoqc(f_45)"
   ]
  },
  {
   "cell_type": "code",
   "execution_count": 26,
   "id": "fe854c88",
   "metadata": {},
   "outputs": [
    {
     "data": {
      "image/png": "[encoded data removed]",
      "text/plain": [
       "Plot with title \"No SNP densities found\""
      ]
     },
     "metadata": {
      "image/png": {
       "height": 420,
       "width": 420
      }
     },
     "output_type": "display_data"
    }
   ],
   "source": [
    "plot(f_46)"
   ]
  },
  {
   "cell_type": "code",
   "execution_count": 27,
   "id": "fe7cb7d3",
   "metadata": {},
   "outputs": [
    {
     "data": {
      "image/png": "[encoded data removed]",
      "text/plain": [
       "Plot with title \"SRR_46\""
      ]
     },
     "metadata": {
      "image/png": {
       "height": 420,
       "width": 420
      }
     },
     "output_type": "display_data"
    }
   ],
   "source": [
    "chromoqc(f_46)"
   ]
  },
  {
   "cell_type": "code",
   "execution_count": 28,
   "id": "a7cbac33",
   "metadata": {},
   "outputs": [
    {
     "data": {
      "image/png": "[encoded data removed]",
      "text/plain": [
       "Plot with title \"No SNP densities found\""
      ]
     },
     "metadata": {
      "image/png": {
       "height": 420,
       "width": 420
      }
     },
     "output_type": "display_data"
    }
   ],
   "source": [
    "plot(f_47)"
   ]
  },
  {
   "cell_type": "code",
   "execution_count": 29,
   "id": "1c43e93a",
   "metadata": {},
   "outputs": [
    {
     "data": {
      "image/png": "[encoded data removed]",
      "text/plain": [
       "Plot with title \"SRR_47\""
      ]
     },
     "metadata": {
      "image/png": {
       "height": 420,
       "width": 420
      }
     },
     "output_type": "display_data"
    }
   ],
   "source": [
    "chromoqc(f_47)"
   ]
  }
 ],
 "metadata": {
  "kernelspec": {
   "display_name": "R",
   "language": "R",
   "name": "ir"
  },
  "language_info": {
   "codemirror_mode": "r",
   "file_extension": ".r",
   "mimetype": "text/x-r-source",
   "name": "R",
   "pygments_lexer": "r",
   "version": "4.0.5"
  }
 },
 "nbformat": 4,
 "nbformat_minor": 5
}
